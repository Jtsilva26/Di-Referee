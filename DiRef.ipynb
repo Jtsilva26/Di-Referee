{
 "cells": [
  {
   "cell_type": "code",
   "execution_count": 1,
   "id": "6d670f18-c0ef-4095-a7b8-985151929522",
   "metadata": {},
   "outputs": [],
   "source": [
    "from __future__ import print_function\n",
    "import cv2 as cv\n",
    "import argparse\n",
    "\n",
    "## [create]\n",
    "#create Background Subtractor objects\n",
    "#backSub = cv.createBackgroundSubtractorMOG2()\n",
    "\n",
    "kernel = cv.getStructuringElement(cv.MORPH_ELLIPSE,(3,3))\n",
    "backSub = cv.bgsegm.createBackgroundSubtractorGMG()\n",
    "\n",
    "## [capture]\n",
    "capture = cv.VideoCapture('videos/IMG_2164.MOV')\n",
    "if not capture.isOpened():\n",
    "    print('Unable to open: ' + args.input)\n",
    "    exit(0)\n",
    "## [capture]\n",
    "\n",
    "while True:\n",
    "    ret, frame = capture.read()\n",
    "    if frame is None:\n",
    "        break\n",
    "\n",
    "    ## [apply]\n",
    "    #update the background model\n",
    "    fgMask = backSub.apply(frame)\n",
    "    fgMask = cv.morphologyEx(fgMask, cv.MORPH_OPEN, kernel)\n",
    "    ## [apply]\n",
    "\n",
    "    ## [display_frame_number]\n",
    "    #get the frame number and write it on the current frame\n",
    "    cv.rectangle(frame, (10, 2), (100,20), (255,255,255), -1)\n",
    "    cv.putText(frame, str(capture.get(cv.CAP_PROP_POS_FRAMES)), (15, 15),\n",
    "               cv.FONT_HERSHEY_SIMPLEX, 0.5 , (0,0,0))\n",
    "    ## [display_frame_number]\n",
    "\n",
    "    ## [show]\n",
    "    #show the current frame and the fg masks\n",
    "    cv.imshow('Frame', frame)\n",
    "    cv.imshow('FG Mask', fgMask)\n",
    "    ## [show]\n",
    "\n",
    "    keyboard = cv.waitKey(30)\n",
    "    if keyboard == 'q' or keyboard == 27:\n",
    "        break"
   ]
  },
  {
   "cell_type": "code",
   "execution_count": null,
   "id": "5d2af4e8-80db-44cd-9021-c91453cee658",
   "metadata": {},
   "outputs": [],
   "source": []
  }
 ],
 "metadata": {
  "kernelspec": {
   "display_name": "Python 3 (ipykernel)",
   "language": "python",
   "name": "python3"
  },
  "language_info": {
   "codemirror_mode": {
    "name": "ipython",
    "version": 3
   },
   "file_extension": ".py",
   "mimetype": "text/x-python",
   "name": "python",
   "nbconvert_exporter": "python",
   "pygments_lexer": "ipython3",
   "version": "3.8.10"
  }
 },
 "nbformat": 4,
 "nbformat_minor": 5
}
